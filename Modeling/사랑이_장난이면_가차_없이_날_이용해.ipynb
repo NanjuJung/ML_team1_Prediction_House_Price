{
  "nbformat": 4,
  "nbformat_minor": 0,
  "metadata": {
    "colab": {
      "provenance": []
    },
    "kernelspec": {
      "name": "python3",
      "display_name": "Python 3"
    },
    "language_info": {
      "name": "python"
    }
  },
  "cells": [
    {
      "cell_type": "code",
      "execution_count": null,
      "metadata": {
        "id": "XFwXeAT-qpUo"
      },
      "outputs": [],
      "source": [
        "import pandas as pd\n",
        "import numpy as np\n",
        "from sklearn.model_selection import train_test_split\n",
        "from sklearn.linear_model import Lasso\n",
        "from xgboost import XGBRegressor\n",
        "from sklearn.metrics import mean_squared_error"
      ]
    },
    {
      "cell_type": "code",
      "source": [
        "# 데이터 로드 및 전처리\n",
        "# 예시 데이터, 실제 데이터에 맞게 수정이 필요합니다.\n",
        "\n",
        "data = pd.read_csv('/content/7km외오피스텔정보_훈련세트.csv', encoding='cp949')\n",
        "test_data = pd.read_csv('/content/경희대학교반경7km오피스텔.csv',  encoding='cp949')\n",
        "Yeah = pd.read_csv('/content/new_data4.csv', encoding='cp949')\n",
        "\n",
        "\n",
        "\n",
        "#####################################################################\n",
        "def min_max_scaling(value, min_val, max_val):\n",
        "    return (value - min_val) / (max_val - min_val)\n",
        "\n",
        "# 위도와 경도의 최소값 및 최대값\n",
        "min_latitude, max_latitude = -90, 90\n",
        "min_longitude, max_longitude = -180, 180\n",
        "\n",
        "# CSV 파일 읽어오기\n",
        "place_data = pd.read_csv(\"/content/7km외오피스텔정보_훈련세트.csv\", encoding='cp949')\n",
        "place_test_data = pd.read_csv('/content/경희대학교반경7km오피스텔.csv',  encoding='cp949')\n",
        "place_Yeah = pd.read_csv('/content/new_data4.csv', encoding='cp949')\n",
        "\n",
        "# 위도와 경도 스케일링\n",
        "\n",
        "place_data_scaled_latitude = min_max_scaling(place_data['X'], min_latitude, max_latitude)\n",
        "place_data_scaled_longitude = min_max_scaling(place_data['Y'], min_longitude, max_longitude)\n",
        "\n",
        "place_test_data_scaled_latitude = min_max_scaling(place_test_data['X'], min_latitude, max_latitude)\n",
        "place_test_data_scaled_longitude = min_max_scaling(place_test_data['Y'], min_longitude, max_longitude)\n",
        "\n",
        "place_Yeah_scaled_latitude = min_max_scaling(place_Yeah['X'], min_latitude, max_latitude)\n",
        "place_Yeah_scaled_longitude = min_max_scaling(place_Yeah['Y'], min_longitude, max_longitude)\n",
        "\n",
        "\n",
        "\n",
        "data['scaled_latitude'] = place_data_scaled_latitude\n",
        "data['scaled_longitude'] = place_data_scaled_longitude\n",
        "\n",
        "\n",
        "test_data['scaled_latitude'] = place_test_data_scaled_latitude\n",
        "test_data['scaled_longitude'] = place_test_data_scaled_longitude\n",
        "\n",
        "\n",
        "Yeah['scaled_latitude'] = place_Yeah_scaled_latitude\n",
        "Yeah['scaled_longitude'] = place_Yeah_scaled_longitude\n",
        "\n",
        "\n",
        "\n",
        "\n",
        "\n",
        "########################################################################\n",
        "\n",
        "# 독립변수와 종속변수 분리  X=input, y=target\n",
        "\n",
        "#훈련데이터\n",
        "X_19 = data[['전용면적(㎡)', '층_2019', '건축년도', 'scaled_latitude', 'scaled_longitude']]\n",
        "X_20 = data[['전용면적(㎡)', '층_2020', '건축년도', 'scaled_latitude', 'scaled_longitude']]\n",
        "X_21 = data[['전용면적(㎡)', '층_2021', '건축년도', 'scaled_latitude', 'scaled_longitude']]\n",
        "X_22 = data[['전용면적(㎡)', '층_2022', '건축년도', 'scaled_latitude', 'scaled_longitude']]\n",
        "X_23 = data[['전용면적(㎡)', '층_2023', '건축년도', 'scaled_latitude', 'scaled_longitude']]\n",
        "\n",
        "#테스트데이터\n",
        "XX_19 = test_data[['전용면적(㎡)', '층_2019', '건축년도', 'scaled_latitude', 'scaled_longitude']]\n",
        "XX_20 = test_data[['전용면적(㎡)', '층_2020', '건축년도', 'scaled_latitude', 'scaled_longitude']]\n",
        "XX_21 = test_data[['전용면적(㎡)', '층_2021', '건축년도', 'scaled_latitude', 'scaled_longitude']]\n",
        "XX_22 = test_data[['전용면적(㎡)', '층_2022', '건축년도', 'scaled_latitude', 'scaled_longitude']]\n",
        "XX_23 = test_data[['전용면적(㎡)', '층_2023', '건축년도', 'scaled_latitude', 'scaled_longitude']]\n",
        "\n",
        "#난주생성데이터\n",
        "XXX_19 = Yeah[['전용면적(㎡)', '층_2019', '건축년도', 'scaled_latitude', 'scaled_longitude']]\n",
        "XXX_20 = Yeah[['전용면적(㎡)', '층_2020', '건축년도', 'scaled_latitude', 'scaled_longitude']]\n",
        "XXX_21 = Yeah[['전용면적(㎡)', '층_2021', '건축년도', 'scaled_latitude', 'scaled_longitude']]\n",
        "XXX_22 = Yeah[['전용면적(㎡)', '층_2022', '건축년도', 'scaled_latitude', 'scaled_longitude']]\n",
        "XXX_23 = Yeah[['전용면적(㎡)', '층_2023', '건축년도', 'scaled_latitude', 'scaled_longitude']]\n",
        "\n",
        "\n",
        "\n",
        "y_19 = data['최종 집값(만원)_2019']\n",
        "y_20 = data['최종 집값(만원)_2020']\n",
        "y_21 = data['최종 집값(만원)_2021']\n",
        "y_22 = data['최종 집값(만원)_2022']\n",
        "y_23 = data['최종 집값(만원)_2023']\n",
        "\n",
        "yy_19 = test_data['최종 집값(만원)_2019']\n",
        "yy_20 = test_data['최종 집값(만원)_2020']\n",
        "yy_21 = test_data['최종 집값(만원)_2021']\n",
        "yy_22 = test_data['최종 집값(만원)_2022']\n",
        "yy_23 = test_data['최종 집값(만원)_2023']\n",
        "\n",
        "yyy = Yeah['최종 집값(만원)']\n",
        "\n",
        "# 학습 데이터와 테스트 데이터로 나누기  ---->>>>>> 안나눠도 되자나 #########################################\n",
        "X_19_train, X_19_test, y_19_train, y_19_test = train_test_split(X_19, y_19, test_size=0.1, random_state=42)\n",
        "X_20_train, X_20_test, y_20_train, y_20_test = train_test_split(X_20, y_20, test_size=0.1, random_state=42)\n",
        "X_21_train, X_21_test, y_21_train, y_21_test = train_test_split(X_21, y_21, test_size=0.1, random_state=42)\n",
        "X_22_train, X_22_test, y_22_train, y_22_test = train_test_split(X_22, y_22, test_size=0.1, random_state=42)\n",
        "X_23_train, X_23_test, y_23_train, y_23_test = train_test_split(X_23, y_23, test_size=0.1, random_state=42)\n"
      ],
      "metadata": {
        "id": "4myyCywBr1Qb"
      },
      "execution_count": null,
      "outputs": []
    },
    {
      "cell_type": "code",
      "source": [
        "print(lasso_model_19.score(XX_19, yy_19))\n",
        "print(lasso_model_20.score(XX_20, yy_20))\n",
        "print(lasso_model_21.score(XX_21, yy_21))\n",
        "print(lasso_model_22.score(XX_22, yy_22))\n",
        "print(lasso_model_23.score(XX_23, yy_23))\n"
      ],
      "metadata": {
        "colab": {
          "base_uri": "https://localhost:8080/"
        },
        "outputId": "bea2f031-c72d-40f7-dff5-398ae5ed884d",
        "id": "HhRpNgeN4B0S"
      },
      "execution_count": null,
      "outputs": [
        {
          "output_type": "stream",
          "name": "stdout",
          "text": [
            "0.7030685880786081\n",
            "0.7168001831119825\n",
            "0.7385336406981335\n",
            "0.7219282685394283\n",
            "0.7085315315430742\n"
          ]
        }
      ]
    },
    {
      "cell_type": "code",
      "source": [
        "print(lasso_model_19.score(XX_19, yy_19))\n",
        "print(lasso_model_20.score(XX_20, yy_20))\n",
        "print(lasso_model_21.score(XX_21, yy_21))\n",
        "print(lasso_model_22.score(XX_22, yy_22))\n",
        "print(lasso_model_23.score(XX_23, yy_23))\n"
      ],
      "metadata": {
        "colab": {
          "base_uri": "https://localhost:8080/"
        },
        "outputId": "ca1ffec0-4869-4c80-8c5e-5a86da36dee4",
        "id": "WMan4s2O34Xq"
      },
      "execution_count": null,
      "outputs": [
        {
          "output_type": "stream",
          "name": "stdout",
          "text": [
            "0.7030685880786081\n",
            "0.7168001831119825\n",
            "0.7385336406981335\n",
            "0.7219282685394283\n",
            "0.7085315315430742\n"
          ]
        }
      ]
    },
    {
      "cell_type": "code",
      "source": [
        "# 라쏘 회귀 모델 학습\n",
        "lasso_model_19 = Lasso(alpha=10)  # alpha 값은 조절 가능\n",
        "lasso_model_19.fit(X_19, y_19)\n",
        "\n",
        "lasso_model_20 = Lasso(alpha=10)\n",
        "lasso_model_20.fit(X_20, y_20)\n",
        "\n",
        "lasso_model_21 = Lasso(alpha=10)\n",
        "lasso_model_21.fit(X_21, y_21)\n",
        "\n",
        "lasso_model_22 = Lasso(alpha=10)\n",
        "lasso_model_22.fit(X_22, y_22)\n",
        "\n",
        "lasso_model_23 = Lasso(alpha=10)\n",
        "lasso_model_23.fit(X_23, y_23)"
      ],
      "metadata": {
        "colab": {
          "base_uri": "https://localhost:8080/",
          "height": 74
        },
        "id": "S9boTcUasGI2",
        "outputId": "5dc5a81a-ca67-44af-b0b6-57016d106f9c"
      },
      "execution_count": null,
      "outputs": [
        {
          "output_type": "execute_result",
          "data": {
            "text/plain": [
              "Lasso(alpha=10)"
            ],
            "text/html": [
              "<style>#sk-container-id-7 {color: black;background-color: white;}#sk-container-id-7 pre{padding: 0;}#sk-container-id-7 div.sk-toggleable {background-color: white;}#sk-container-id-7 label.sk-toggleable__label {cursor: pointer;display: block;width: 100%;margin-bottom: 0;padding: 0.3em;box-sizing: border-box;text-align: center;}#sk-container-id-7 label.sk-toggleable__label-arrow:before {content: \"▸\";float: left;margin-right: 0.25em;color: #696969;}#sk-container-id-7 label.sk-toggleable__label-arrow:hover:before {color: black;}#sk-container-id-7 div.sk-estimator:hover label.sk-toggleable__label-arrow:before {color: black;}#sk-container-id-7 div.sk-toggleable__content {max-height: 0;max-width: 0;overflow: hidden;text-align: left;background-color: #f0f8ff;}#sk-container-id-7 div.sk-toggleable__content pre {margin: 0.2em;color: black;border-radius: 0.25em;background-color: #f0f8ff;}#sk-container-id-7 input.sk-toggleable__control:checked~div.sk-toggleable__content {max-height: 200px;max-width: 100%;overflow: auto;}#sk-container-id-7 input.sk-toggleable__control:checked~label.sk-toggleable__label-arrow:before {content: \"▾\";}#sk-container-id-7 div.sk-estimator input.sk-toggleable__control:checked~label.sk-toggleable__label {background-color: #d4ebff;}#sk-container-id-7 div.sk-label input.sk-toggleable__control:checked~label.sk-toggleable__label {background-color: #d4ebff;}#sk-container-id-7 input.sk-hidden--visually {border: 0;clip: rect(1px 1px 1px 1px);clip: rect(1px, 1px, 1px, 1px);height: 1px;margin: -1px;overflow: hidden;padding: 0;position: absolute;width: 1px;}#sk-container-id-7 div.sk-estimator {font-family: monospace;background-color: #f0f8ff;border: 1px dotted black;border-radius: 0.25em;box-sizing: border-box;margin-bottom: 0.5em;}#sk-container-id-7 div.sk-estimator:hover {background-color: #d4ebff;}#sk-container-id-7 div.sk-parallel-item::after {content: \"\";width: 100%;border-bottom: 1px solid gray;flex-grow: 1;}#sk-container-id-7 div.sk-label:hover label.sk-toggleable__label {background-color: #d4ebff;}#sk-container-id-7 div.sk-serial::before {content: \"\";position: absolute;border-left: 1px solid gray;box-sizing: border-box;top: 0;bottom: 0;left: 50%;z-index: 0;}#sk-container-id-7 div.sk-serial {display: flex;flex-direction: column;align-items: center;background-color: white;padding-right: 0.2em;padding-left: 0.2em;position: relative;}#sk-container-id-7 div.sk-item {position: relative;z-index: 1;}#sk-container-id-7 div.sk-parallel {display: flex;align-items: stretch;justify-content: center;background-color: white;position: relative;}#sk-container-id-7 div.sk-item::before, #sk-container-id-7 div.sk-parallel-item::before {content: \"\";position: absolute;border-left: 1px solid gray;box-sizing: border-box;top: 0;bottom: 0;left: 50%;z-index: -1;}#sk-container-id-7 div.sk-parallel-item {display: flex;flex-direction: column;z-index: 1;position: relative;background-color: white;}#sk-container-id-7 div.sk-parallel-item:first-child::after {align-self: flex-end;width: 50%;}#sk-container-id-7 div.sk-parallel-item:last-child::after {align-self: flex-start;width: 50%;}#sk-container-id-7 div.sk-parallel-item:only-child::after {width: 0;}#sk-container-id-7 div.sk-dashed-wrapped {border: 1px dashed gray;margin: 0 0.4em 0.5em 0.4em;box-sizing: border-box;padding-bottom: 0.4em;background-color: white;}#sk-container-id-7 div.sk-label label {font-family: monospace;font-weight: bold;display: inline-block;line-height: 1.2em;}#sk-container-id-7 div.sk-label-container {text-align: center;}#sk-container-id-7 div.sk-container {/* jupyter's `normalize.less` sets `[hidden] { display: none; }` but bootstrap.min.css set `[hidden] { display: none !important; }` so we also need the `!important` here to be able to override the default hidden behavior on the sphinx rendered scikit-learn.org. See: https://github.com/scikit-learn/scikit-learn/issues/21755 */display: inline-block !important;position: relative;}#sk-container-id-7 div.sk-text-repr-fallback {display: none;}</style><div id=\"sk-container-id-7\" class=\"sk-top-container\"><div class=\"sk-text-repr-fallback\"><pre>Lasso(alpha=10)</pre><b>In a Jupyter environment, please rerun this cell to show the HTML representation or trust the notebook. <br />On GitHub, the HTML representation is unable to render, please try loading this page with nbviewer.org.</b></div><div class=\"sk-container\" hidden><div class=\"sk-item\"><div class=\"sk-estimator sk-toggleable\"><input class=\"sk-toggleable__control sk-hidden--visually\" id=\"sk-estimator-id-7\" type=\"checkbox\" checked><label for=\"sk-estimator-id-7\" class=\"sk-toggleable__label sk-toggleable__label-arrow\">Lasso</label><div class=\"sk-toggleable__content\"><pre>Lasso(alpha=10)</pre></div></div></div></div></div>"
            ]
          },
          "metadata": {},
          "execution_count": 66
        }
      ]
    },
    {
      "cell_type": "code",
      "source": [
        "print(lasso_model_19.score(XX_19, yy_19))\n",
        "print(lasso_model_20.score(XX_20, yy_20))\n",
        "print(lasso_model_21.score(XX_21, yy_21))\n",
        "print(lasso_model_22.score(XX_22, yy_22))\n",
        "print(lasso_model_23.score(XX_23, yy_23))\n"
      ],
      "metadata": {
        "colab": {
          "base_uri": "https://localhost:8080/"
        },
        "id": "gV3_pt5tAIja",
        "outputId": "bb644fe9-5270-4b76-ef1a-68d9df8a4b4e"
      },
      "execution_count": null,
      "outputs": [
        {
          "output_type": "stream",
          "name": "stdout",
          "text": [
            "0.7030685880786081\n",
            "0.7168001831119825\n",
            "0.7385336406981335\n",
            "0.7219282685394283\n",
            "0.7085315315430742\n"
          ]
        }
      ]
    },
    {
      "cell_type": "code",
      "source": [
        "from sklearn.preprocessing import StandardScaler\n",
        "\n",
        "ss = StandardScaler()\n",
        "\n",
        "\n",
        "ss.fit(X_23_train)\n",
        "X_23_train_scaled = ss.transform(X_23_train)\n",
        "X_23_test_scaled = ss.transform(X_23_test)\n"
      ],
      "metadata": {
        "id": "iXZ_lUWn-jN3"
      },
      "execution_count": null,
      "outputs": []
    },
    {
      "cell_type": "code",
      "source": [
        "import matplotlib.pyplot as plt\n",
        "train_score = []\n",
        "test_score = []\n",
        "\n",
        "alpha_list = [0.001, 0.01, 0.1, 1, 10, 100]   #과소적합이니깐 10으로!!!\n",
        "for alpha in alpha_list :\n",
        "  lasso = Lasso(alpha=alpha)\n",
        "  lasso.fit(X_23_train_scaled, y_23_train)\n",
        "  train_score.append(lasso.score(X_23_train_scaled, y_23_train))\n",
        "  test_score.append(lasso.score(X_23_test_scaled, y_23_test))\n",
        "\n",
        "plt.plot(np.log10(alpha_list), train_score)\n",
        "plt.plot(np.log10(alpha_list), test_score)\n",
        "\n",
        "plt.show()\n"
      ],
      "metadata": {
        "colab": {
          "base_uri": "https://localhost:8080/",
          "height": 430
        },
        "id": "3EqSoDvN-VwR",
        "outputId": "83773087-29b7-4a7a-a164-34627452d602"
      },
      "execution_count": null,
      "outputs": [
        {
          "output_type": "display_data",
          "data": {
            "text/plain": [
              "<Figure size 640x480 with 1 Axes>"
            ],
            "image/png": "[encoded data removed]"
          },
          "metadata": {}
        }
      ]
    },
    {
      "cell_type": "code",
      "source": [
        "# 라쏘 회귀 모델 평가\n",
        "lasso_predictions = lasso_model_23.predict(X_23_test)\n",
        "lasso_mse = mean_squared_error(y_23_test, lasso_predictions)\n",
        "print(f\"Lasso Regression Mean Squared Error: {lasso_mse}\")  #mse로 평가하면 집값 수치가 애초에 너무커서 평균제곱오차도 숫자가 너무 커보인당..ㅜ\n",
        "\n"
      ],
      "metadata": {
        "colab": {
          "base_uri": "https://localhost:8080/"
        },
        "id": "134PeoSds4G9",
        "outputId": "55f45a9d-d8b0-48e1-d1f5-1b7146561c79"
      },
      "execution_count": null,
      "outputs": [
        {
          "output_type": "stream",
          "name": "stdout",
          "text": [
            "Lasso Regression Mean Squared Error: 56989161.17354893\n"
          ]
        }
      ]
    },
    {
      "cell_type": "code",
      "source": [
        "print(lasso_model_23.coef_, lasso_model_23.intercept_)  #'전용면적(㎡)', '층_', '건축년도','X','Y' 중요도 순서  좌표 스케일링하니까 중요도 되게 낮아짐  ㄷㄷ;;"
      ],
      "metadata": {
        "colab": {
          "base_uri": "https://localhost:8080/"
        },
        "id": "-JSLd9qQEglV",
        "outputId": "6208f5c3-254f-402b-c87b-d89ff85cfcdd"
      },
      "execution_count": null,
      "outputs": [
        {
          "output_type": "stream",
          "name": "stdout",
          "text": [
            "[523.13406825 183.75946548 373.69112486   0.          -0.        ] -748872.9804369226\n"
          ]
        }
      ]
    },
    {
      "cell_type": "code",
      "source": [
        "from sklearn.metrics import r2_score\n",
        "\n",
        "# 테스트 데이터에 대한 예측값 생성\n",
        "y_pred = lasso_model_23.predict(X_23_test)\n",
        "\n",
        "# 결정 계수(R2) 계산\n",
        "r2 = r2_score(y_23_test, y_pred)\n",
        "\n",
        "print(f'R-squared (R2): {r2}')\n",
        "\n",
        "#원래는 80%는 넘겨야 괜찮은 모델이라 하지만 주식이나 부동산 특히 해당 년도의 변동성이 너무 크니.. 이정도로 만족해라!!\n"
      ],
      "metadata": {
        "colab": {
          "base_uri": "https://localhost:8080/"
        },
        "id": "VG54i0G_Fyal",
        "outputId": "224a9871-85b8-46f9-b069-ac57db7041cf"
      },
      "execution_count": null,
      "outputs": [
        {
          "output_type": "stream",
          "name": "stdout",
          "text": [
            "R-squared (R2): 0.7487634124497077\n"
          ]
        }
      ]
    },
    {
      "cell_type": "code",
      "source": [
        "print(lasso_model_23.score(X_23_train, y_23_train))\n",
        "\n",
        "print(lasso_model_23.score(X_23_test, y_23_test))\n",
        "#과소적합 어떻게 해결하더라\n",
        "\n",
        "print(lasso_model_23.score(XXX_23, yyy))"
      ],
      "metadata": {
        "colab": {
          "base_uri": "https://localhost:8080/"
        },
        "id": "YnWghztiPll1",
        "outputId": "1ee576c5-09d5-40e3-c116-62c98eebf445"
      },
      "execution_count": null,
      "outputs": [
        {
          "output_type": "stream",
          "name": "stdout",
          "text": [
            "0.7175642831710981\n",
            "0.7487634124497077\n",
            "-0.7597590092719342\n"
          ]
        }
      ]
    },
    {
      "cell_type": "code",
      "source": [
        "#라쏘 결과 테스트용 셀\n",
        "predictions_23 = lasso_model_23.predict(XXX_23)  #각 년도별로 모델적용해야됨\n",
        "print(predictions_23)\n"
      ],
      "metadata": {
        "colab": {
          "base_uri": "https://localhost:8080/"
        },
        "id": "IU6AyIUqVn8a",
        "outputId": "9672a3cd-b84f-4154-978c-583a95a38928"
      },
      "execution_count": null,
      "outputs": [
        {
          "output_type": "stream",
          "name": "stdout",
          "text": [
            "[21659.07071925 21226.0522075  12469.97159979 ... 31627.58301593\n",
            " 24785.34189406 19848.96336525]\n"
          ]
        }
      ]
    },
    {
      "cell_type": "code",
      "source": [
        "predictions_19 = lasso_model_19.predict(XXX_19)\n",
        "predictions_20 = lasso_model_20.predict(XXX_20)\n",
        "predictions_21 = lasso_model_21.predict(XXX_21)\n",
        "predictions_22 = lasso_model_22.predict(XXX_22)\n",
        "predictions_23 = lasso_model_23.predict(XXX_23)\n",
        "\n",
        "print(predictions_19)\n",
        "print(predictions_20)\n",
        "print(predictions_21)\n",
        "print(predictions_22)\n",
        "print(predictions_23)\n",
        "\n",
        "\n",
        "# 예시 numpy 배열\n",
        "numpy_array = np.array(predictions_19)\n",
        "\n",
        "# 판다스 DataFrame으로 변환\n",
        "df = pd.DataFrame(numpy_array)\n",
        "\n",
        "# to_csv 메서드 사용\n",
        "df.to_csv(\"/content/predict_19\", index=False)"
      ],
      "metadata": {
        "colab": {
          "base_uri": "https://localhost:8080/"
        },
        "id": "i3Js1H5QHatw",
        "outputId": "56185c67-1eda-4f19-ce1f-2858e561fe6d"
      },
      "execution_count": null,
      "outputs": [
        {
          "output_type": "stream",
          "name": "stdout",
          "text": [
            "[20963.04984527 20695.74803259 12531.15308169 ... 30486.86924374\n",
            " 24150.27207494 19669.44380909]\n",
            "[21910.96905436 21634.97515623 12841.09834337 ... 32168.51092892\n",
            " 25352.71739293 20524.65953903]\n",
            "[23119.93288912 22381.2102635  12770.91348102 ... 34073.57155402\n",
            " 26358.98104156 20985.85358534]\n",
            "[23191.26283299 22491.90672401 12875.20197041 ... 34081.29972218\n",
            " 26410.93463168 20984.8224309 ]\n",
            "[21659.07071925 21226.0522075  12469.97159979 ... 31627.58301593\n",
            " 24785.34189406 19848.96336525]\n"
          ]
        }
      ]
    },
    {
      "cell_type": "code",
      "source": [
        "print(lasso_model_19.score(XXX_19, yyy))\n",
        "print(lasso_model_20.score(XXX_20, yyy))\n",
        "print(lasso_model_21.score(XXX_21, yyy))\n",
        "print(lasso_model_22.score(XXX_22, yyy))\n",
        "print(lasso_model_23.score(XXX_23, yyy))"
      ],
      "metadata": {
        "colab": {
          "base_uri": "https://localhost:8080/"
        },
        "id": "-1_hCa1eAO5b",
        "outputId": "83f7bba1-9109-459a-9be9-eb2192e58418"
      },
      "execution_count": null,
      "outputs": [
        {
          "output_type": "stream",
          "name": "stdout",
          "text": [
            "-0.6390447021051824\n",
            "-0.7461409320299184\n",
            "-0.9526473182349813\n",
            "-0.9600194328048519\n",
            "-0.7597590092719342\n"
          ]
        }
      ]
    },
    {
      "cell_type": "code",
      "source": [
        "# XGBoost 모델 학습\n",
        "xgb_model = XGBRegressor()\n",
        "xgb_model.fit(X_23, y_23)"
      ],
      "metadata": {
        "colab": {
          "base_uri": "https://localhost:8080/",
          "height": 248
        },
        "id": "rQ2Ck_Bo_fcV",
        "outputId": "41531b6b-b164-4a4f-84da-486e74a42d0b"
      },
      "execution_count": null,
      "outputs": [
        {
          "output_type": "execute_result",
          "data": {
            "text/plain": [
              "XGBRegressor(base_score=None, booster=None, callbacks=None,\n",
              "             colsample_bylevel=None, colsample_bynode=None,\n",
              "             colsample_bytree=None, device=None, early_stopping_rounds=None,\n",
              "             enable_categorical=False, eval_metric=None, feature_types=None,\n",
              "             gamma=None, grow_policy=None, importance_type=None,\n",
              "             interaction_constraints=None, learning_rate=None, max_bin=None,\n",
              "             max_cat_threshold=None, max_cat_to_onehot=None,\n",
              "             max_delta_step=None, max_depth=None, max_leaves=None,\n",
              "             min_child_weight=None, missing=nan, monotone_constraints=None,\n",
              "             multi_strategy=None, n_estimators=None, n_jobs=None,\n",
              "             num_parallel_tree=None, random_state=None, ...)"
            ],
            "text/html": [
              "<style>#sk-container-id-8 {color: black;background-color: white;}#sk-container-id-8 pre{padding: 0;}#sk-container-id-8 div.sk-toggleable {background-color: white;}#sk-container-id-8 label.sk-toggleable__label {cursor: pointer;display: block;width: 100%;margin-bottom: 0;padding: 0.3em;box-sizing: border-box;text-align: center;}#sk-container-id-8 label.sk-toggleable__label-arrow:before {content: \"▸\";float: left;margin-right: 0.25em;color: #696969;}#sk-container-id-8 label.sk-toggleable__label-arrow:hover:before {color: black;}#sk-container-id-8 div.sk-estimator:hover label.sk-toggleable__label-arrow:before {color: black;}#sk-container-id-8 div.sk-toggleable__content {max-height: 0;max-width: 0;overflow: hidden;text-align: left;background-color: #f0f8ff;}#sk-container-id-8 div.sk-toggleable__content pre {margin: 0.2em;color: black;border-radius: 0.25em;background-color: #f0f8ff;}#sk-container-id-8 input.sk-toggleable__control:checked~div.sk-toggleable__content {max-height: 200px;max-width: 100%;overflow: auto;}#sk-container-id-8 input.sk-toggleable__control:checked~label.sk-toggleable__label-arrow:before {content: \"▾\";}#sk-container-id-8 div.sk-estimator input.sk-toggleable__control:checked~label.sk-toggleable__label {background-color: #d4ebff;}#sk-container-id-8 div.sk-label input.sk-toggleable__control:checked~label.sk-toggleable__label {background-color: #d4ebff;}#sk-container-id-8 input.sk-hidden--visually {border: 0;clip: rect(1px 1px 1px 1px);clip: rect(1px, 1px, 1px, 1px);height: 1px;margin: -1px;overflow: hidden;padding: 0;position: absolute;width: 1px;}#sk-container-id-8 div.sk-estimator {font-family: monospace;background-color: #f0f8ff;border: 1px dotted black;border-radius: 0.25em;box-sizing: border-box;margin-bottom: 0.5em;}#sk-container-id-8 div.sk-estimator:hover {background-color: #d4ebff;}#sk-container-id-8 div.sk-parallel-item::after {content: \"\";width: 100%;border-bottom: 1px solid gray;flex-grow: 1;}#sk-container-id-8 div.sk-label:hover label.sk-toggleable__label {background-color: #d4ebff;}#sk-container-id-8 div.sk-serial::before {content: \"\";position: absolute;border-left: 1px solid gray;box-sizing: border-box;top: 0;bottom: 0;left: 50%;z-index: 0;}#sk-container-id-8 div.sk-serial {display: flex;flex-direction: column;align-items: center;background-color: white;padding-right: 0.2em;padding-left: 0.2em;position: relative;}#sk-container-id-8 div.sk-item {position: relative;z-index: 1;}#sk-container-id-8 div.sk-parallel {display: flex;align-items: stretch;justify-content: center;background-color: white;position: relative;}#sk-container-id-8 div.sk-item::before, #sk-container-id-8 div.sk-parallel-item::before {content: \"\";position: absolute;border-left: 1px solid gray;box-sizing: border-box;top: 0;bottom: 0;left: 50%;z-index: -1;}#sk-container-id-8 div.sk-parallel-item {display: flex;flex-direction: column;z-index: 1;position: relative;background-color: white;}#sk-container-id-8 div.sk-parallel-item:first-child::after {align-self: flex-end;width: 50%;}#sk-container-id-8 div.sk-parallel-item:last-child::after {align-self: flex-start;width: 50%;}#sk-container-id-8 div.sk-parallel-item:only-child::after {width: 0;}#sk-container-id-8 div.sk-dashed-wrapped {border: 1px dashed gray;margin: 0 0.4em 0.5em 0.4em;box-sizing: border-box;padding-bottom: 0.4em;background-color: white;}#sk-container-id-8 div.sk-label label {font-family: monospace;font-weight: bold;display: inline-block;line-height: 1.2em;}#sk-container-id-8 div.sk-label-container {text-align: center;}#sk-container-id-8 div.sk-container {/* jupyter's `normalize.less` sets `[hidden] { display: none; }` but bootstrap.min.css set `[hidden] { display: none !important; }` so we also need the `!important` here to be able to override the default hidden behavior on the sphinx rendered scikit-learn.org. See: https://github.com/scikit-learn/scikit-learn/issues/21755 */display: inline-block !important;position: relative;}#sk-container-id-8 div.sk-text-repr-fallback {display: none;}</style><div id=\"sk-container-id-8\" class=\"sk-top-container\"><div class=\"sk-text-repr-fallback\"><pre>XGBRegressor(base_score=None, booster=None, callbacks=None,\n",
              "             colsample_bylevel=None, colsample_bynode=None,\n",
              "             colsample_bytree=None, device=None, early_stopping_rounds=None,\n",
              "             enable_categorical=False, eval_metric=None, feature_types=None,\n",
              "             gamma=None, grow_policy=None, importance_type=None,\n",
              "             interaction_constraints=None, learning_rate=None, max_bin=None,\n",
              "             max_cat_threshold=None, max_cat_to_onehot=None,\n",
              "             max_delta_step=None, max_depth=None, max_leaves=None,\n",
              "             min_child_weight=None, missing=nan, monotone_constraints=None,\n",
              "             multi_strategy=None, n_estimators=None, n_jobs=None,\n",
              "             num_parallel_tree=None, random_state=None, ...)</pre><b>In a Jupyter environment, please rerun this cell to show the HTML representation or trust the notebook. <br />On GitHub, the HTML representation is unable to render, please try loading this page with nbviewer.org.</b></div><div class=\"sk-container\" hidden><div class=\"sk-item\"><div class=\"sk-estimator sk-toggleable\"><input class=\"sk-toggleable__control sk-hidden--visually\" id=\"sk-estimator-id-8\" type=\"checkbox\" checked><label for=\"sk-estimator-id-8\" class=\"sk-toggleable__label sk-toggleable__label-arrow\">XGBRegressor</label><div class=\"sk-toggleable__content\"><pre>XGBRegressor(base_score=None, booster=None, callbacks=None,\n",
              "             colsample_bylevel=None, colsample_bynode=None,\n",
              "             colsample_bytree=None, device=None, early_stopping_rounds=None,\n",
              "             enable_categorical=False, eval_metric=None, feature_types=None,\n",
              "             gamma=None, grow_policy=None, importance_type=None,\n",
              "             interaction_constraints=None, learning_rate=None, max_bin=None,\n",
              "             max_cat_threshold=None, max_cat_to_onehot=None,\n",
              "             max_delta_step=None, max_depth=None, max_leaves=None,\n",
              "             min_child_weight=None, missing=nan, monotone_constraints=None,\n",
              "             multi_strategy=None, n_estimators=None, n_jobs=None,\n",
              "             num_parallel_tree=None, random_state=None, ...)</pre></div></div></div></div></div>"
            ]
          },
          "metadata": {},
          "execution_count": 76
        }
      ]
    },
    {
      "cell_type": "code",
      "source": [
        "# 모델 초기화 및 학습\n",
        "xgb_model_19 = XGBRegressor(n_estimators=200, learning_rate=0.05, max_depth=3)  #depth=3 일때 MSE 값 최소 // .\n",
        "xgb_model_19.fit(X_19, y_19)\n",
        "\n",
        "xgb_model_20 = XGBRegressor(n_estimators=200, learning_rate=0.05, max_depth=3)  #depth=3 일때 MSE 값 최소 //\n",
        "xgb_model_20.fit(X_20, y_20)\n",
        "\n",
        "xgb_model_21 = XGBRegressor(n_estimators=200, learning_rate=0.05, max_depth=3)  #depth=3 일때 MSE 값 최소 //\n",
        "xgb_model_21.fit(X_21, y_21)\n",
        "\n",
        "xgb_model_22 = XGBRegressor(n_estimators=200, learning_rate=0.05, max_depth=3)  #depth=3 일때 MSE 값 최소 //\n",
        "xgb_model_22.fit(X_22, y_22)\n",
        "\n",
        "xgb_model_23 = XGBRegressor(n_estimators=200, learning_rate=0.05, max_depth=3)  #depth=3 일때 MSE 값 최소 // 400 0.1 3\n",
        "xgb_model_23.fit(X_23, y_23)\n",
        "\n",
        "# 테스트 데이터 예측 및 평가\n",
        "y_pred = xgb_model_19.predict(X_19)\n",
        "mse = mean_squared_error(y_19, y_pred)\n",
        "print(f'Mean Squared Error: {mse}')\n",
        "\n",
        "# 특성 중요도 확인\n",
        "feature_importance = xgb_model_19.feature_importances_\n",
        "print('Feature Importance:', feature_importance)"
      ],
      "metadata": {
        "colab": {
          "base_uri": "https://localhost:8080/"
        },
        "id": "FZORF1isI4G7",
        "outputId": "060e034c-7528-4ceb-bbc2-5419c87d3c02"
      },
      "execution_count": null,
      "outputs": [
        {
          "output_type": "stream",
          "name": "stdout",
          "text": [
            "Mean Squared Error: 17083790.18790783\n",
            "Feature Importance: [0.58418053 0.07077915 0.14998168 0.10255794 0.09250069]\n"
          ]
        }
      ]
    },
    {
      "cell_type": "code",
      "source": [
        "# XGBoost 모델 평가\n",
        "xgb_predictions_19 = xgb_model_19.predict(XX_19)\n",
        "xgb_mse_19 = mean_squared_error(yy_19, xgb_predictions_19)\n",
        "print(f\"XGBoost Mean Squared Error: {xgb_mse_19}\")\n",
        "\n",
        "xgb_predictions_20 = xgb_model_20.predict(XX_20)\n",
        "xgb_mse_20 = mean_squared_error(yy_20, xgb_predictions_20)\n",
        "print(f\"XGBoost Mean Squared Error: {xgb_mse_20}\")\n",
        "\n",
        "xgb_predictions_21 = xgb_model_21.predict(XX_21)\n",
        "xgb_mse_21 = mean_squared_error(yy_21, xgb_predictions_21)\n",
        "print(f\"XGBoost Mean Squared Error: {xgb_mse_21}\")\n",
        "\n",
        "xgb_predictions_22 = xgb_model_22.predict(XX_22)\n",
        "xgb_mse_22 = mean_squared_error(yy_22, xgb_predictions_22)\n",
        "print(f\"XGBoost Mean Squared Error: {xgb_mse_22}\")\n",
        "\n",
        "xgb_predictions_23 = xgb_model_23.predict(XX_23)\n",
        "xgb_mse_23 = mean_squared_error(yy_23, xgb_predictions_23)\n",
        "print(f\"XGBoost Mean Squared Error: {xgb_mse_23}\")"
      ],
      "metadata": {
        "colab": {
          "base_uri": "https://localhost:8080/"
        },
        "id": "s0onswwZ_io8",
        "outputId": "fee187d3-460a-4df0-817f-b10545939bf9"
      },
      "execution_count": null,
      "outputs": [
        {
          "output_type": "stream",
          "name": "stdout",
          "text": [
            "XGBoost Mean Squared Error: 49261760.96608589\n",
            "XGBoost Mean Squared Error: 46193850.85746199\n",
            "XGBoost Mean Squared Error: 65154505.107305825\n",
            "XGBoost Mean Squared Error: 72549351.02575211\n",
            "XGBoost Mean Squared Error: 48889989.75651391\n"
          ]
        }
      ]
    },
    {
      "cell_type": "code",
      "source": [
        "print(xgb_predictions_19)\n",
        "print(xgb_predictions_20)\n",
        "print(xgb_predictions_21)\n",
        "print(xgb_predictions_22)\n",
        "print(xgb_predictions_23)"
      ],
      "metadata": {
        "colab": {
          "base_uri": "https://localhost:8080/"
        },
        "id": "vmFnBF0-kBzB",
        "outputId": "9bbc29b8-c93d-44cd-b8bf-f70b78f32efa"
      },
      "execution_count": null,
      "outputs": [
        {
          "output_type": "stream",
          "name": "stdout",
          "text": [
            "[25567.508 48842.29  17648.312 21621.744 23868.25  27664.45  27664.45\n",
            " 15463.708 15853.711 39764.09  12003.993 22863.428 13877.177 18362.8\n",
            " 14420.031 16583.797 16674.383 19832.    18002.627 18826.246 20414.145\n",
            " 21954.662 22495.639 15112.631 15203.217 18623.094 20414.482 21844.889\n",
            " 16583.797 18312.846 45026.977 56721.414 18298.363 12645.362 12425.468\n",
            " 13149.785 13570.46  19070.375 19285.422 23848.643 18208.012 19600.275\n",
            " 23233.684 24848.578 21278.285 19724.504 20667.514 16398.604 17957.086\n",
            " 19806.076 20496.627 21222.713 19251.791 17227.615 17977.229 20126.578\n",
            " 20549.014 17726.885 18575.59  23084.86  23339.197 23429.783 23429.783\n",
            " 23339.197 33828.63  19526.09  21743.314 24936.227 17406.035 19981.283\n",
            " 23401.154 23294.758 32497.084 72950.234 72684.62  72950.234 20326.363\n",
            " 30392.44  16398.604 18909.725 18909.725 19231.441 21189.676 23130.05\n",
            " 26468.416 32261.412 17278.412 19472.398 20408.434 20408.434 20477.01\n",
            " 21801.326 21466.967 16919.023 21160.873 21279.021 21279.021 21279.021\n",
            " 21623.955 16542.99  21995.12  22539.564 21124.408 22738.885 25445.21\n",
            " 20508.248 18175.195 31467.557 31206.79  31467.557 22753.082 21650.195\n",
            " 21926.543 22539.564 20101.605 20403.328 19658.988 28688.379 29188.406\n",
            " 20137.342 20508.248 24463.627 25855.479 24654.594 25584.045 14313.244\n",
            " 14172.123 14869.517 14329.76  16611.316 18619.824 13994.268 21274.898\n",
            " 12139.825  9467.027 12199.875 10562.213 10562.213 15851.887 16017.765\n",
            " 19699.975 27142.094 30401.977 31258.07  31381.61  33186.17  33186.17\n",
            " 34001.97  32253.285 38254.99  37613.38  16252.104 16252.104 26745.898\n",
            "  9644.713 12429.465  9130.912 11848.53  12126.753 15077.902 15600.549\n",
            " 12168.825 12950.999 34344.645  9645.507 21607.809  9444.005  9157.832\n",
            " 10111.912 30444.803 30444.803 31033.08  30444.803 30444.803 32416.514\n",
            " 30444.803 30444.803 32416.514 15477.006 15068.142 15393.888 13663.127\n",
            " 10115.024 11354.097 13649.954 13649.954 29406.814 15357.871 21050.994\n",
            " 22918.96  23177.898 16457.527 17339.148 17747.639 18931.992 19146.123\n",
            " 19354.428 26924.09  21908.69  22521.71  26884.889 29540.469 32619.133\n",
            " 32660.889 32660.889 32660.889 33741.535 19497.541 20679.492 30043.055\n",
            " 20602.07  21049.492 23163.402 25049.334 27902.117 21309.104 25770.664\n",
            " 30403.576 19969.049 21331.578 27194.545 19322.393 19395.076 19969.049\n",
            " 21413.877 19043.39  20725.54  16101.538 18266.139 17361.756 30921.09\n",
            " 33712.33  18821.371 19278.262 20337.291 23871.018 32215.586 19725.43\n",
            " 21733.938 21524.826 14541.161 15043.696 19043.39  20725.54  18207.12\n",
            " 22621.48  21464.738 22757.547 24787.746 26712.71  14862.099 14602.17\n",
            " 17758.443 19396.906 19314.064 16224.77  22098.85  19314.064 19314.064\n",
            " 17047.156 17303.713 19888.41  20488.502 18780.74  19283.63  32180.914\n",
            " 32086.602 37937.152 42069.01  18950.15  19873.04  19894.686 41601.855\n",
            " 40678.633 41183.85  42094.28  25197.857 34146.773 34950.145 21431.297\n",
            " 18018.57  17768.227 34215.66  19857.197 24438.086 25196.531 26753.807\n",
            " 42750.61  19738.316 19158.72  19341.268 20064.256 54295.848 20670.848\n",
            " 22388.68  22716.19  23689.682 28012.828 28335.43  41179.01  40268.582\n",
            " 21008.49  21479.686 17272.1   17353.06  18517.84  18908.28  18908.28\n",
            " 20469.408 20693.658 31504.594 17287.172 18707.287 16162.875 17252.764\n",
            " 20252.357 22460.389 16522.85  16613.44  17694.205 20252.357 16964.516\n",
            " 27035.77  20805.402 12566.844 18416.248 25291.771 24175.947 28900.434\n",
            " 21376.91  22478.865 22990.219 22958.762 23439.773 16070.031 22407.29\n",
            " 16006.705 16257.056 35315.156 24341.338 25108.229 27030.168 25453.162\n",
            " 25453.162 16666.527 18404.79  17374.94  17846.072 19625.816 20048.252\n",
            " 18078.307 19884.709 22932.1   24124.895 24124.895 40010.645 24838.834\n",
            " 20300.71  20024.307 20300.71  20300.71  20991.262 20991.262 19320.568\n",
            " 32902.844 33529.344 33054.7   25707.77  21175.945 24271.17  33941.688\n",
            " 19490.686 19214.895 20063.6   19924.58  20200.984 18095.037 19779.7\n",
            " 21828.838 18476.879 17632.998 17632.998 17883.342 20964.664 20681.877\n",
            " 21771.273 21739.816 38836.18  38807.83  18685.484 18449.773 19888.41\n",
            " 20570.732 20194.342 25152.42  25726.812 29333.354 30236.256 32582.998\n",
            " 20630.213 22359.262 17981.688 17974.7   18539.568 18214.518 26506.432\n",
            " 26271.924 18783.059 19205.494 20217.377 18430.203 20030.004 20030.004\n",
            " 23308.824 23027.44  38292.15  20352.61  20262.023 20288.264 20846.629\n",
            " 14268.944 14202.089 16493.31  15638.069 16935.459 15956.995 16952.2\n",
            " 17619.262 18390.213 15535.221 15937.867 19144.541 15409.662 16113.406\n",
            " 17622.242 18919.834 14503.164 34425.34  20843.326 21214.234 20811.87\n",
            " 22351.623 22320.166 15978.829 17660.729 15409.662 16389.814 16389.814\n",
            " 14705.111 16017.765 15683.682 19749.574 13821.347 26049.498 16707.021\n",
            " 18406.66  20510.66  20818.479 33226.97  23962.086 18766.238 24944.809\n",
            " 20801.375 20818.479 21094.883 21510.059 21791.97  24367.785 25068.354\n",
            " 20510.66  20510.66  21510.059 22068.375 23625.65  24043.648 24944.809\n",
            " 25480.531 17774.557 17658.662 18003.596 16419.586 16419.586 17224.756\n",
            " 18409.11  19692.365 18409.11  20099.932 24052.635 16354.623 17246.043\n",
            " 17661.676 19999.812 19886.459 20589.434 19886.459 20463.633 32995.22\n",
            " 16961.037 17416.02  16822.232 18003.596 17190.67  19692.365 19587.248\n",
            " 20535.107 16255.097 20595.328 21153.703 15265.751 20396.15  15025.065\n",
            " 15401.261 13980.29  15892.225 15875.238 16997.484 15456.071 15425.824\n",
            " 16492.61  19883.033 23532.197 19754.014 20323.746 21029.242 18549.232\n",
            " 23950.979 26596.193 27692.273 15555.401 19817.791 22084.467 22084.467\n",
            " 22777.254 15636.711 16220.592 16594.525 16564.281 17133.549 27237.502\n",
            " 26697.504 21506.516 21628.559 22881.115 25158.17  25133.88  20484.096\n",
            " 29309.963 28725.191 29484.945 31287.594 31730.781 30257.9   29153.93\n",
            " 24688.111 34338.71  34882.477 16959.697 18311.488 16959.697 17820.48\n",
            " 16790.07  16666.527 18404.79  28658.637 30960.855 28428.305 28799.299\n",
            " 18003.596 24214.318 20475.605 20502.66  18018.951 16901.11  17896.908\n",
            " 21100.328 20756.58  22862.326 25307.594 14821.399 16847.926 15088.603\n",
            " 17083.906 14841.809 16838.383 15830.472 15630.855 20434.697 15138.06\n",
            " 16200.191 18927.166 19287.824 16119.155 30642.582 21856.281 37435.32\n",
            " 17364.955 21132.592 21665.516 22733.656 18338.477 20292.625 22836.957\n",
            " 23616.71  18338.486 20957.18  14670.271 16353.073 19302.193 15489.017\n",
            " 26031.61  38069.98  26502.031 26502.031 20247.598 14533.602 15764.093\n",
            " 16193.914 19482.605 21808.275 15416.831 15714.817 15991.224 17252.47\n",
            " 17903.22  12518.315 12930.286 17757.191]\n",
            "[26051.668  50137.93   18253.895  21694.504  24856.9    28173.877\n",
            " 28570.514  16906.785  17339.842  41665.33   10970.193  20114.898\n",
            " 10557.395  13921.664  12520.744  13869.869  14003.63   17023.262\n",
            " 15457.3    13624.836  16494.154  18290.084  18555.816  11913.857\n",
            " 12762.074  14160.257  17542.742  17663.004  14202.986  14258.322\n",
            " 47836.047  57246.188  18669.754  14362.231  14439.743  15243.184\n",
            " 16716.693  20447.38   20731.412  24232.807  19741.535  20545.252\n",
            " 23547.713  25770.1    21811.72   19149.514  21691.775  17017.617\n",
            " 18716.406  20858.89   21426.205  21975.807  20739.143  18279.332\n",
            " 18941.332  21137.55   21345.732  19196.912  20289.371  25275.3\n",
            " 25684.027  26970.139  25522.498  25684.027  36244.293  20810.012\n",
            " 22410.6    25868.36   18352.266  20912.668  22715.943  23169.234\n",
            " 32876.793  83646.78   83646.78   83646.78   21881.076  31734.277\n",
            " 17017.617  20311.596  19977.938  19867.867  22655.344  23504.674\n",
            " 27180.123  34088.37   17817.463  20427.535  21582.457  21582.457\n",
            " 21782.443  22363.389  22376.906  18593.22   24162.84   24270.979\n",
            " 24278.727  24278.727  24000.775  18128.621  24525.924  24878.275\n",
            " 23243.143  24383.     27971.473  22961.082  19178.203  33928.375\n",
            " 34639.914  33928.375  24997.885  24278.727  24525.924  24878.275\n",
            " 22275.791  22852.502  22075.805  29311.63   30424.398  22190.562\n",
            " 23120.926  26359.955  26459.625  27907.266  27281.855  14184.324\n",
            " 14447.68   14630.272  12422.757  14264.598  13838.532  13010.698\n",
            " 17036.174  11591.358  11258.501  14917.935  12215.179  12427.361\n",
            " 13481.559  14120.726  20066.234  29092.865  31998.525  35168.062\n",
            " 35779.87   36814.566  36574.85   36602.656  37619.566  42518.85\n",
            " 41931.176  14984.874  15128.968  27554.484  11466.683  13121.661\n",
            " 11192.127  11219.898  12112.598  13149.828  13433.859  13954.246\n",
            " 12266.811  35056.375  10889.315  21686.18   10793.836  11933.692\n",
            " 11697.654  31469.988  31736.445  34356.07   31592.348  31592.348\n",
            " 34356.07   31592.348  30769.574  33621.78   13577.954  14312.027\n",
            " 13643.813  14386.073  12266.811  12264.971  14507.385  14488.679\n",
            " 33444.188  16601.824  21762.768  23057.805  22764.75   17209.486\n",
            " 18510.4    19109.07   20753.268  20753.268  20817.355  29128.95\n",
            " 23281.693  23540.684  30143.26   30671.4    33328.816  33883.848\n",
            " 33938.96   33938.96   35578.633  21595.21   21954.66   31800.818\n",
            " 21590.807  22659.307  25577.762  25853.514  29489.467  23522.219\n",
            " 27448.213  31874.516  21639.139  22096.56   28291.662  20657.023\n",
            " 21352.756  21433.72   22836.553  17073.389  17211.025  15503.738\n",
            " 18670.885  15560.224  29288.822  31591.648  18327.383  18543.96\n",
            " 19279.824  23053.203  34204.4    18408.207  17293.908  17341.61\n",
            " 13952.351  14336.52   17290.27   17121.09   16885.994  19357.74\n",
            " 21901.277  22310.004  25392.73   26673.16   14184.471  13947.655\n",
            " 15938.545  16799.543  19414.67   16154.39   22144.258  19870.736\n",
            " 19306.71   16219.761  15650.969  22249.914  22618.215  21361.406\n",
            " 21616.73   33280.74   35579.645  41033.8    48104.707  19143.072\n",
            " 20277.764  20207.129  45900.31   47759.758  47083.668  47083.668\n",
            " 27294.047  36857.934  37897.547  23821.592  19672.914  19672.914\n",
            " 36748.156  21562.377  26900.607  27712.705  29424.125  49734.617\n",
            " 22102.613  21705.188  22097.014  22550.273  60312.332  22105.14\n",
            " 23053.105  22986.143  24419.717  29734.086  29734.086  49160.305\n",
            " 50003.707  22339.43   23667.785  18929.355  19574.645  19321.754\n",
            " 19646.758  19163.627  20840.371  21207.32   31276.871  17365.352\n",
            " 17880.83   14734.291  17855.482  21672.086  23488.816  16626.77\n",
            " 16788.295  17959.615  20643.332  17268.822  26708.201  21600.133\n",
            " 13672.372  19184.889  25596.691  24768.643  29317.502  22419.326\n",
            " 22894.342  23462.701  23462.701  23623.21   16478.488  24627.455\n",
            " 17566.594  17361.176  41759.363  25156.592  28157.69   28709.049\n",
            " 25741.389  27250.615  18568.457  19810.484  17887.309  18465.951\n",
            " 20023.205  20231.387  19819.76   21383.951  22980.342  26051.133\n",
            " 26195.227  46319.176  23374.453  21492.18   21640.35   21640.35\n",
            " 21659.51   22207.664  22207.664  19341.514  36015.832  35949.76\n",
            " 35106.363  26888.271  22272.596  25818.422  36336.785  21868.156\n",
            " 20796.783  22477.94   21830.646  22042.828  18390.443  18049.256\n",
            " 19875.955  19678.686  19929.059  19929.059  20287.307  22852.502\n",
            " 23288.217  23455.99   23661.408  44541.1    46414.043  21303.287\n",
            " 21103.3    22395.98   22678.146  22824.213  27433.033  28311.201\n",
            " 33239.48   33716.984  38976.504  21736.02   22094.957  18372.068\n",
            " 18917.303  19002.045  19148.111  29390.855  27291.549  18977.87\n",
            " 19097.553  20237.41   18779.098  21058.008  21292.572  23244.518\n",
            " 22913.033  41862.773  21403.863  21411.611  21411.611  21697.244\n",
            " 14691.117  14835.889  15988.34   16407.592  15892.533  15709.483\n",
            " 16705.986  17382.514  18379.145  15257.383  15899.321  19076.531\n",
            " 15271.631  15186.795  16926.75   18740.291  14682.6455 36151.6\n",
            " 17888.24   19609.377  19802.715  20798.658  20944.725  15579.548\n",
            " 16801.615  14975.543  15135.582  15347.761  14872.6455 14120.726\n",
            " 15292.312  19214.684  10800.862  25133.045  15717.0205 18760.682\n",
            " 16667.912  18729.357  33458.49   20525.818  16509.215  22062.557\n",
            " 17838.193  17946.525  17668.545  19013.389  18830.744  22376.57\n",
            " 23143.46   16989.291  16921.475  18665.28   18830.744  21564.727\n",
            " 21858.648  22104.553  23143.46   17445.885  17712.893  18097.55\n",
            " 15934.309  16318.971  16768.738  17974.123  19242.355  17220.934\n",
            " 17180.523  23254.848  17264.996  17955.79   17659.377  19177.59\n",
            " 19338.1    19338.1    19903.074  20344.35   31191.914  16762.473\n",
            " 17487.557  16599.219  17867.254  16936.195  19242.355  18801.834\n",
            " 16956.715  16100.538  20699.484  21099.76   14231.688  20447.223\n",
            " 14778.081  14392.658  13853.457  14833.182  14969.058  17705.717\n",
            " 15722.408  16027.54   16717.205  20682.186  24779.363  20737.002\n",
            " 21461.47   21561.764  18995.072  25434.713  28575.264  29745.541\n",
            " 16166.342  21014.88   23993.236  23180.61   24916.645  17107.656\n",
            " 16617.252  17114.555  17248.744  17444.717  28545.172  28141.6\n",
            " 23177.53   23177.53   25019.873  24321.662  25876.037  20716.354\n",
            " 29404.027  30722.87   30957.83   32563.459  34467.754  32642.51\n",
            " 31956.576  27247.21   38495.89   38169.566  17577.426  18356.275\n",
            " 17577.426  18506.342  18148.094  18360.275  19532.232  30630.37\n",
            " 33277.46   30519.645  30519.645  18863.395  25144.373  21841.854\n",
            " 22086.44   19030.16   17971.395  18524.611  21827.607  22876.174\n",
            " 23881.562  27630.129  14986.037  16203.193  13670.559  15059.66\n",
            " 14976.36   16146.752  15999.818  15734.251  18526.191  15366.261\n",
            " 16453.51   18754.037  19067.72   13838.532  30378.977  20933.754\n",
            " 39925.97   15937.946  20478.71   21338.207  22564.021  18651.31\n",
            " 20046.389  22109.982  22643.277  18340.746  20770.928  14520.848\n",
            " 14464.979  19168.889  15691.175  26204.072  41752.176  27165.678\n",
            " 27265.018  19227.11   13009.287  13133.618  14708.908  15886.697\n",
            " 17856.715  12591.75   13253.6    13253.6    14406.037  15428.474\n",
            " 10459.801  11249.081  19178.566 ]\n",
            "[ 27033.217   59616.516   18442.447   21801.844   25237.049   26441.92\n",
            "  27429.584   16643.887   17221.846   42871.812   11217.024   22334.486\n",
            "  12445.22    15188.445   13682.382   14680.535   15590.622   19446.957\n",
            "  17051.336   17450.803   19532.254   19243.498   19887.908   13321.678\n",
            "  14755.108   15851.169   19468.55    18676.422   14680.535   16821.016\n",
            "  65090.05    75540.6     19032.645   15121.528   14914.354   15825.564\n",
            "  16676.945   20910.125   21084.084   25459.166   20229.361   20974.203\n",
            "  25851.611   26905.363   21084.621   20487.584   21671.443   17949.947\n",
            "  19251.11    21560.074   21671.443   21671.443   20737.936   18279.828\n",
            "  19387.512   21261.014   21897.828   19484.195   21030.08    25632.541\n",
            "  25502.479   24785.559   25478.475   24785.559   41067.71    20516.26\n",
            "  24002.236   26365.361   17869.736   20842.715   23329.719   24618.562\n",
            "  35418.176   96732.77   101181.45   101181.45    20888.717   32844.375\n",
            "  17964.074   20862.834   20856.04    19452.715   22977.596   25138.428\n",
            "  28396.549   37474.074   18532.61    21088.453   22779.412   22764.44\n",
            "  22779.412   23677.668   24006.342   17519.844   22835.53    22804.932\n",
            "  22804.932   23128.904   23133.01    19182.203   23414.713   24392.92\n",
            "  21534.072   26578.1     29280.44    22028.053   18526.355   36132.74\n",
            "  37226.707   36117.76    25181.016   23410.607   23414.713   24388.814\n",
            "  20950.977   22228.213   20950.977   33692.11    35529.83    21553.383\n",
            "  22164.18    26164.875   26857.791   26857.791   26877.01    10856.985\n",
            "  10605.653   10509.898   11024.813   16074.281   16206.196   10551.342\n",
            "  17195.56    12005.462   10196.351   12248.083   13707.106   13713.899\n",
            "  15926.97    15147.417   23765.404   33317.03    39318.688   41999.92\n",
            "  43548.613   43541.82    43541.82    48936.246   53787.246   57539.46\n",
            "  61826.035   15180.79    17492.652   32636.137   10890.851   12614.665\n",
            "  10733.797   13003.03    13812.837   15827.508   14875.831   13616.761\n",
            "  14764.504   42418.76    11812.441   26509.25    12506.578   13381.189\n",
            "  13991.432   38713.504   38790.13    41680.71    38720.297   38713.504\n",
            "  40883.656   40042.28    38713.504   40876.863   15099.189   17328.064\n",
            "  16417.98    14224.863   13141.933   13665.355   15091.823   14566.8955\n",
            "  39547.016   18617.979   21808.498   22046.816   22599.922   17861.107\n",
            "  17923.775   18821.664   20903.592   20378.664   20688.008   31182.002\n",
            "  24291.133   25182.818   30318.268   32210.188   35025.223   36253.375\n",
            "  36688.062   37073.22    37266.566   22751.977   22584.56    34193.91\n",
            "  21232.766   22603.607   26729.164   26464.193   34357.086   22108.57\n",
            "  26760.781   33400.812   21359.607   22690.908   29770.396   20035.838\n",
            "  20953.076   21313.074   22830.191   19217.348   20554.695   16619.887\n",
            "  18334.627   17693.469   34870.598   38537.27    18591.758   20725.715\n",
            "  21903.432   26695.764   37826.996   20267.678   20110.191   21048.771\n",
            "  14410.151   15479.961   19233.785   20817.129   18569.627   21535.676\n",
            "  23448.166   24569.652   26141.31    30735.4     13202.042   13622.695\n",
            "  13595.096   19640.523   17341.154   15721.958   20871.531   18709.502\n",
            "  17804.42    14864.32    14090.601   20816.537   25970.955   18869.457\n",
            "  19293.9     38122.79    38488.82    46760.656   55317.83    18644.398\n",
            "  19339.332   19008.607   49531.965   51789.543   51157.496   51789.543\n",
            "  28801.312   41311.56    44140.902   22016.379   18795.053   18843.24\n",
            "  41857.08    21126.643   28974.082   29875.432   31163.898   55059.16\n",
            "  19871.695   19460.078   20010.877   20057.232   72991.22    24293.215\n",
            "  25280.361   26769.904   27732.352   36238.375   34854.887   55979.668\n",
            "  54893.15    22950.572   22552.611   17921.645   18862.428   19949.418\n",
            "  20270.771   20270.771   21869.883   22745.611   37118.94    18987.613\n",
            "  20427.807   16624.482   18924.1     21591.88    23045.254   18127.336\n",
            "  16395.162   19110.15    21602.488   16519.918   30920.883   21309.07\n",
            "  13323.048   19857.98    25820.963   25824.188   29890.531   23045.475\n",
            "  24050.371   24467.99    24220.36    25158.025   17172.033   26053.725\n",
            "  16273.608   16273.608   43002.457   25280.996   27853.895   29038.885\n",
            "  26578.693   27700.809   18083.654   20718.361   18467.7     19004.945\n",
            "  20294.232   21037.107   19532.873   21357.824   23191.488   25532.502\n",
            "  26777.428   48100.695   23620.55    21703.795   22061.223   22068.555\n",
            "  21943.625   22179.387   22503.3     19751.63    39430.137   40517.453\n",
            "  39893.05    27794.295   21475.352   26076.908   36891.723   19721.695\n",
            "  19974.77    24887.363   21766.104   21663.018   18751.951   19486.818\n",
            "  20725.1     18533.09    19618.428   19721.514   19721.514   22374.895\n",
            "  22374.895   23050.236   23491.438   48709.586   52768.31    20082.287\n",
            "  19537.822   20722.98    21461.746   21006.418   29344.926   30913.766\n",
            "  37988.105   38458.36    40516.793   21335.998   23864.213   18747.97\n",
            "  18882.246   19053.725   19053.725   30750.402   27565.375   18664.88\n",
            "  19373.508   20275.578   19299.428   21018.53    21018.53    23601.7\n",
            "  24609.736   44464.195   21274.143   21293.22    21785.36    21815.957\n",
            "  15118.783   15227.671   17362.816   16840.281   17207.04    15989.023\n",
            "  16425.945   18365.322   18618.453   15674.988   15431.4795  18781.434\n",
            "  17154.799   17781.477   18001.746   19026.486   15262.995   38266.027\n",
            "  21592.7     21058.271   22867.9     22294.104   22294.104   16559.162\n",
            "  17894.072   18166.988   17883.582   18793.666   11128.8125  15147.417\n",
            "  15364.3955  17203.166   11272.771   28761.047   16722.611   18524.203\n",
            "  19793.959   19972.156   37250.367   23096.06    18402.717   26132.303\n",
            "  20815.137   20936.135   19972.156   21169.951   21506.842   24573.713\n",
            "  27595.777   20581.32    19865.521   20411.207   21506.842   23096.06\n",
            "  23742.62    25948.8     27197.629   17668.748   18405.8     18814.596\n",
            "  16659.23    16296.9375  18146.492   18586.125   19703.744   18360.602\n",
            "  19224.637   26537.44    16558.357   18537.258   18823.545   20841.408\n",
            "  21588.602   21434.535   20635.928   22198.473   38160.555   17124.207\n",
            "  17861.098   17319.377   18405.8     17479.246   19676.6     19840.975\n",
            "  19122.453   16465.617   20943.525   20943.525   16824.842   19745.832\n",
            "  15434.988   15957.032   14265.8545  16232.163   17019.604   17747.826\n",
            "  16207.506   16407.467   17117.736   20464.307   24589.418   20473.717\n",
            "  20871.238   21133.562   19440.857   24008.994   27265.877   28273.225\n",
            "  16014.365   20144.049   21470.83    21819.303   22699.16    15953.598\n",
            "  16033.851   16689.375   16760.152   17177.803   29974.742   29974.742\n",
            "  23384.125   22855.367   24659.326   24478.572   25075.008   21298.564\n",
            "  31444.059   33058.26    33987.777   35620.7     35821.008   32785.27\n",
            "  35418.586   25750.033   39257.367   40907.71    17223.541   18694.207\n",
            "  18133.625   18048.082   17601.467   17635.715   19759.902   30816.51\n",
            "  33726.094   31870.898   31238.86    18638.508   24103.7     21651.434\n",
            "  21760.639   20214.754   18213.033   18320.242   22441.248   23127.695\n",
            "  22873.514   26293.61    14402.982   16825.934   13241.604   16192.1875\n",
            "  14774.924   16743.123   15905.83    16152.94    20659.959   15570.343\n",
            "  16688.148   17808.332   17793.36    15971.194   34930.445   22135.871\n",
            "  43340.05    17235.135   22323.715   21938.197   23231.121   19447.695\n",
            "  21483.994   23101.031   24492.32    19451.8     22019.176   15289.111\n",
            "  16390.547   20711.258   15374.2705  29814.457   51920.633   31040.756\n",
            "  31025.783   20236.98    14440.192   15050.434   16181.769   16930.057\n",
            "  20951.24    11296.534   12431.27    12438.0625  11663.117   12747.852\n",
            "   8301.723    9674.156   17200.295 ]\n",
            "[ 27007.678   64849.438   19245.398   22903.615   25726.266   27980.7\n",
            "  27378.371   16061.479   16974.346   41112.094   12087.054   23278.29\n",
            "  13593.447   15992.122   14783.101   16888.875   17018.37    21170.969\n",
            "  18065.69    18186.865   20036.24    19830.582   22534.643   14941.208\n",
            "  14704.92    18011.152   20978.951   19644.834   16524.902   17963.764\n",
            "  60543.84    70534.31    19739.752   15318.285   14650.152   17186.01\n",
            "  17186.48    21448.988   21438.828   25800.5     20984.232   21542.16\n",
            "  24737.63    25784.69    22374.352   21034.744   22962.812   18635.31\n",
            "  20560.52    21893.207   22234.197   22962.812   20588.727   18454.86\n",
            "  20303.47    21659.568   22244.307   19831.904   21389.496   25637.602\n",
            "  25703.402   25623.688   25703.402   25076.197   38535.305   20636.176\n",
            "  22846.053   25735.666   19046.812   21503.865   24530.043   24848.207\n",
            "  34847.86   122468.72    92906.94    93775.79    23303.912   32197.096\n",
            "  18173.904   21119.734   21119.734   20481.398   21635.201   24651.936\n",
            "  27802.404   35458.      18206.236   20861.893   21968.242   21906.541\n",
            "  21968.242   23590.658   23116.652   18081.238   23748.99    23822.475\n",
            "  24262.107   23666.842   24262.107   19063.412   24223.732   24537.082\n",
            "  22965.234   24967.78    26996.781   22631.436   19635.273   33683.168\n",
            "  35015.945   33744.867   25537.8     23735.205   23511.156   24913.258\n",
            "  22765.244   23265.03    21407.422   30278.873   31085.889   21555.96\n",
            "  21232.766   26070.602   26478.176   26631.375   27086.643   11724.545\n",
            "  12538.821   12309.281   12664.444   15465.204   16067.425   11437.308\n",
            "  15806.952   12544.606   11554.287   12028.189   12841.377   13544.562\n",
            "  15464.331   15102.138   18875.68    31546.16    36595.05    39229.52\n",
            "  40799.71    41028.05    41028.05    51416.59    45306.816   61444.715\n",
            "  58527.06    16308.068   16352.396   29946.57    11058.422   12885.854\n",
            "   9590.      13227.829   13109.923   16126.228   15098.054   12778.141\n",
            "  15093.931   41956.027   12105.27    28120.111   12076.303   13049.156\n",
            "  13481.594   34685.285   37466.832   42072.426   38833.734   34685.285\n",
            "  41494.082   38833.734   37466.832   42860.984   15475.472   15588.503\n",
            "  16679.275   14637.15    13713.349   13832.744   13702.421   15475.707\n",
            "  40720.676   14830.194   22191.037   22386.059   24177.686   16777.354\n",
            "  17138.703   19491.139   20042.291   19785.242   20627.03    31684.99\n",
            "  22991.387   23448.893   30493.299   32633.459   34793.06    36187.523\n",
            "  36125.82    36440.04    37932.1     21457.736   21727.385   34109.062\n",
            "  20908.63    21885.08    24770.203   25814.674   32584.07    22711.87\n",
            "  28219.064   34621.465   22353.818   22007.957   28359.693   20205.953\n",
            "  21056.938   21034.863   22660.48    18491.69    20022.172   15689.482\n",
            "  18802.018   16114.065   33136.36    35398.477   19102.777   19681.432\n",
            "  21260.92    25161.287   39850.066   20668.521   19161.969   19574.035\n",
            "  14540.907   14464.129   18372.355   19295.992   17133.688   21430.963\n",
            "  22948.605   23672.836   26048.975   31080.883   12517.909   12517.909\n",
            "  15900.278   19019.32    17777.166   14796.563   18812.244   18741.385\n",
            "  18741.385   12485.228   13673.899   21838.55    23741.926   19417.229\n",
            "  20278.186   36202.918   36959.44    44332.22    54536.8     19137.377\n",
            "  20716.693   20339.275   47782.184   48239.23    53534.24    50459.812\n",
            "  25608.479   39486.508   39474.367   23457.367   20239.525   19510.91\n",
            "  38694.723   20958.139   26771.564   28277.441   29186.838   52051.344\n",
            "  20772.14    20879.473   21018.959   21504.465   93090.98    22834.158\n",
            "  24288.408   23154.672   24368.623   31813.967   29888.672   53717.055\n",
            "  54376.75    22581.596   23811.734   18798.361   20111.715   18921.156\n",
            "  19461.025   19478.322   20290.17    20979.695   31626.695   17285.244\n",
            "  17850.22    17169.613   16649.25    19210.068   20766.67    14095.364\n",
            "  16390.496   16172.368   20294.275   14409.596   26026.557   20602.543\n",
            "  12014.649   20367.912   25446.168   25015.719   30536.088   22306.31\n",
            "  23108.512   23856.682   23856.682   24124.553   17158.771   27510.328\n",
            "  16985.887   16596.516   41351.19    24855.787   27721.844   29348.227\n",
            "  26637.86    26576.158   18444.295   20434.322   18926.127   19121.19\n",
            "  20532.3     21374.088   19570.469   21100.057   22435.943   24448.836\n",
            "  25954.713   48990.918   23791.572   21993.521   21904.227   21904.227\n",
            "  21975.502   22316.492   22326.652   21095.184   36697.82    36177.66\n",
            "  36177.66    29654.488   22570.037   26847.193   39125.08    21812.207\n",
            "  21303.434   23817.164   22539.514   23011.08    18972.488   20787.129\n",
            "  21710.766   20737.262   20113.176   20584.742   20113.176   22751.42\n",
            "  23348.58    22729.143   22729.143   48298.543   50683.82    20501.773\n",
            "  20567.664   20654.781   20823.852   20823.852   27501.64    28750.469\n",
            "  33452.285   33809.11    38490.598   21755.023   23400.943   18548.873\n",
            "  19151.236   19071.521   18353.066   31620.377   26465.047   18150.418\n",
            "  19196.562   20426.465   19083.965   21136.201   21215.916   23480.266\n",
            "  23894.424   44125.133   21213.193   20749.438   21573.111   22007.783\n",
            "  13974.99    13271.802   16574.764   15897.306   16604.787   15503.132\n",
            "  16796.902   18146.557   18462.838   14917.938   14997.78    19210.09\n",
            "  16284.238   16429.902   18289.205   18322.887   13429.335   38943.434\n",
            "  19839.545   20269.658   19969.04    22448.424   20218.658   14312.072\n",
            "  16508.729   16662.459   17094.895   17094.895   12427.431   15815.487\n",
            "  14083.001   17485.924   12038.56    28926.84    16875.383   19272.984\n",
            "  19295.293   20530.455   39752.21    23283.734   18649.52    26722.102\n",
            "  20300.463   19879.709   19879.709   20530.455   21734.246   23907.373\n",
            "  26413.059   20300.463   19649.717   18799.105   21734.246   22299.012\n",
            "  22034.13    26722.102   25933.537   17052.844   17285.795   17328.79\n",
            "  16784.93    16807.47    18431.291   18605.025   18790.943   17891.68\n",
            "  21190.781   26704.623   16525.201   18407.123   18492.494   20700.574\n",
            "  21351.674   21351.674   20627.443   21930.713   35090.836   18137.762\n",
            "  17360.34    16807.47    17365.637   16374.267   18852.645   18790.943\n",
            "  19759.008   15818.511   21167.875   21536.746   16382.224   21149.252\n",
            "  14181.009   15497.666   14209.72    14941.01    16347.801   18010.656\n",
            "  15756.499   15882.572   16728.719   20809.607   25227.895   19913.281\n",
            "  21187.482   21634.592   19087.45    25992.871   29844.65    31110.832\n",
            "  17137.26    20432.656   22741.361   22803.062   25195.705   16103.309\n",
            "  16108.402   16474.83    16464.67    17643.71    31001.03    31001.03\n",
            "  22461.639   22461.639   23791.555   24342.678   25084.555   21589.793\n",
            "  30728.408   31609.7     31597.562   34321.395   35858.094   34271.832\n",
            "  31888.447   26387.018   41277.7     42366.32    17622.26    18918.52\n",
            "  16893.645   19241.576   17725.84    18444.295   19776.982   31787.85\n",
            "  35772.617   31547.998   33043.64    17840.941   25830.672   19558.29\n",
            "  21388.074   19295.693   17079.996   17166.55    20834.604   21642.197\n",
            "  23986.803   27414.752   13293.945   15623.702   12043.921   15583.878\n",
            "  13424.0625  17151.08    14473.475   14473.475   20356.      14132.251\n",
            "  14776.828   18492.088   17355.07    14762.021   30155.207   20771.055\n",
            "  40239.57    16266.81    20646.48    20370.068   22393.422   18120.865\n",
            "  19252.57    21912.334   22935.629   17978.186   20091.25    13453.86\n",
            "  15017.33    18855.996   14197.715   25840.072   41361.914   27366.016\n",
            "  26993.93    19291.457   13720.428   14142.702   15584.62    15349.497\n",
            "  17663.08    14493.852   15697.649   15707.81    13996.27    14714.141\n",
            "   9893.601   10994.615   16569.941 ]\n",
            "[25760.812  55550.133  17828.564  20750.299  23494.068  25422.322\n",
            " 26097.299  15905.216  16584.115  38817.855   9859.335  19021.586\n",
            " 10554.925  12697.351  11826.983  12660.327  12644.231  16403.887\n",
            " 13811.958  13927.563  16248.009  18028.57   19046.43   11174.954\n",
            " 11254.745  13522.81   16381.185  17416.89   12660.327  14053.677\n",
            " 57289.38   71099.04   18915.926  15348.308  15311.068  15920.324\n",
            " 16667.592  20270.174  20806.6    24708.85   19554.094  20590.46\n",
            " 23955.314  25208.49   21798.256  20128.17   21730.521  17684.07\n",
            " 19399.354  21469.984  21968.195  21946.66   19862.742  17776.605\n",
            " 19521.314  20525.27   20955.303  18963.354  20373.867  22625.29\n",
            " 22074.443  22152.76   22625.29   22625.29   31621.062  19371.287\n",
            " 21929.438  25130.174  17264.354  20209.28   22800.875  23295.186\n",
            " 31324.12   81036.734  88321.266  82404.     19208.67   31618.809\n",
            " 17517.682  20329.924  20329.924  19567.94   22479.654  23630.354\n",
            " 26219.697  34909.574  18642.812  20457.926  21214.367  21268.936\n",
            " 20900.568  21329.977  22007.754  16796.13   20801.744  21087.152\n",
            " 20851.986  21177.984  21123.416  18043.818  21642.13   22508.691\n",
            " 20684.033  22187.627  24527.783  20416.15   18238.494  29508.236\n",
            " 30228.078  29508.236  21325.69   21461.533  21642.13   22273.525\n",
            " 19839.14   20719.545  19595.684  30788.338  31286.549  20335.365\n",
            " 20423.951  23241.469  23529.184  23529.184  24026.91   10663.918\n",
            " 11274.763  11914.166  12602.917  14220.698  14220.698  11552.327\n",
            " 16246.875  12346.32   10924.727  12001.865  12439.17   12465.697\n",
            " 13370.757  13171.2705 19888.61   27064.691  32264.898  35321.43\n",
            " 36389.883  36332.66   36954.1    43232.707  41436.367  47443.734\n",
            " 46016.383  14347.425  14083.22   26498.184  11295.732  11850.251\n",
            "  9673.595  11430.226  12383.881  14924.693  14903.158  11769.936\n",
            " 13299.545  37824.438  11334.928  19820.297  10617.313  11930.193\n",
            " 11928.535  33756.68   33756.68   37050.883  33135.242  33756.68\n",
            " 37034.785  33756.68   33756.68   37050.883  14903.158  15083.637\n",
            " 15321.314  13229.098  11954.734  13161.014  14245.912  14483.586\n",
            " 34481.992  16429.734  19666.56   20838.889  21674.54   16590.893\n",
            " 17300.217  17993.82   19130.268  19180.613  19638.617  29791.166\n",
            " 21396.895  22577.254  26978.994  27700.715  29700.822  30837.475\n",
            " 31648.943  32037.299  32367.307  20607.494  22571.943  31779.367\n",
            " 20395.     20996.77   23292.94   24564.613  30690.291  20744.656\n",
            " 24462.525  26912.824  20362.104  21631.818  27020.727  19227.723\n",
            " 19532.492  19756.062  21276.883  18775.572  19273.477  16450.965\n",
            " 18356.045  17235.977  30206.084  34086.883  17569.94   18716.5\n",
            " 20512.314  26006.334  36286.19   20088.666  20088.666  21355.264\n",
            " 14190.902  14657.47   18529.451  19882.076  18720.273  20846.14\n",
            " 20573.809  20573.809  23097.307  28625.838  12973.25   13345.574\n",
            " 14578.565  16330.976  15910.091  13530.457  17911.916  15910.091\n",
            " 16401.727  13241.982  13267.403  19836.113  20515.002  19282.223\n",
            " 19326.432  29461.178  32764.523  40477.656  50110.645  19423.385\n",
            " 19887.277  19577.98   42053.58   42347.95   43654.4    44366.715\n",
            " 23223.549  33350.156  36118.082  21276.654  18134.984  18460.936\n",
            " 32995.734  18893.361  23788.287  25175.613  26749.473  50460.67\n",
            " 19423.605  18850.936  18939.008  19809.777  67772.234  20449.334\n",
            " 21458.984  21662.74   23908.664  29364.955  29364.955  49226.336\n",
            " 48815.586  21010.52   22954.678  17416.787  17333.486  15205.094\n",
            " 15720.512  15795.398  16971.992  17462.988  28467.152  14865.039\n",
            " 15701.526  17228.193  15308.778  15691.707  17464.469  12756.123\n",
            " 12993.799  14319.319  15947.189  13255.827  25177.031  16489.936\n",
            " 10189.714  18792.932  23472.281  24242.87   27270.697  20923.842\n",
            " 21821.174  22335.436  21825.076  22854.027  16003.761  23933.902\n",
            " 16145.3545 16437.598  39381.43   23765.217  25172.723  25894.443\n",
            " 24080.857  25042.256  16857.285  18650.303  17885.074  18310.855\n",
            " 19921.596  20000.36   18835.344  19796.348  21274.668  24649.94\n",
            " 25005.83   43978.168  23531.355  20858.586  21078.914  21316.588\n",
            " 21266.912  21814.799  21577.125  19581.404  36077.613  35721.434\n",
            " 36077.613  26535.025  20983.096  24782.236  34454.51   19160.812\n",
            " 19758.395  20931.234  20847.027  20197.547  18208.256  18232.016\n",
            " 19997.69   17242.732  17577.676  18074.14   18366.383  20787.504\n",
            " 21515.186  22115.164  22115.164  39962.914  44473.473  18053.97\n",
            " 18753.68   19784.707  20152.127  20464.66   23937.262  25538.514\n",
            " 32059.535  32471.342  35534.574  19847.6    21642.654  17307.305\n",
            " 18179.8    18239.008  18123.22   27306.332  25516.598  18619.748\n",
            " 18765.672  20005.719  18693.447  19947.227  19947.227  22255.555\n",
            " 23068.314  40035.773  20351.43   20351.43   20950.89   20950.89\n",
            " 11528.719  11301.555  12920.318  11496.374  12345.5205 12041.1045\n",
            " 12133.753  14398.467  14978.622  11702.542  12128.968  14842.9375\n",
            " 12317.735  12679.632  14345.285  14692.293  11301.555  34220.336\n",
            " 15666.696  17037.48   16976.168  17585.785  18092.402  12060.071\n",
            " 13746.637  12959.639  13141.121  13305.439  12218.262  13404.022\n",
            " 12408.763  15910.091  11236.37   27825.588  16867.059  18322.783\n",
            " 19236.965  20774.969  36189.93   22935.594  18629.312  25869.504\n",
            " 19921.062  20352.006  20374.96   20703.088  21171.588  24534.88\n",
            " 25743.66   19948.453  19509.688  20703.088  21121.242  23065.66\n",
            " 23065.66   25819.158  25819.158  16516.217  17247.219  17696.66\n",
            " 15731.91   15714.509  16866.82   17654.307  18817.275  17654.307\n",
            " 18178.752  24251.068  16263.9375 17298.625  16941.883  19093.768\n",
            " 19935.887  19486.516  19995.094  20121.553  31768.002  16696.127\n",
            " 17072.367  16031.852  17570.816  16516.217  19106.293  19876.645\n",
            " 19060.264  15684.751  19597.04   19304.602  16124.462  19362.297\n",
            " 15193.885  16457.385  14646.024  16688.084  16828.957  17350.406\n",
            " 15672.039  15870.662  17132.379  19503.254  23301.057  18341.111\n",
            " 19200.082  19648.416  18433.973  23093.285  25036.059  26973.777\n",
            " 16119.948  20211.65   21746.586  21801.154  22192.773  15872.243\n",
            " 15815.923  16258.049  16222.384  16688.809  28257.555  28257.555\n",
            " 21522.496  21139.762  22831.967  22831.967  23487.15   20807.459\n",
            " 29194.08   29875.842  30457.654  31719.795  31206.076  30057.893\n",
            " 29829.977  23524.08   34110.203  35880.945  16868.258  17538.947\n",
            " 16852.164  17218.287  16564.352  16618.92   18590.324  27586.785\n",
            " 31097.72   29792.27   29910.773  17247.219  22629.832  18868.682\n",
            " 19205.582  18239.098  17442.049  17623.635  21030.607  21016.377\n",
            " 22327.037  24178.672  12011.041  14874.622  12967.777  14449.899\n",
            " 11928.958  16921.436  13117.364  13680.996  17158.035  12778.889\n",
            " 13493.564  15038.699  15198.08   13928.456  28564.598  19121.752\n",
            " 35635.     14719.305  19446.445  17947.506  19088.232  16010.549\n",
            " 17155.111  19869.674  20273.195  15642.177  17607.176  12775.563\n",
            " 13917.471  16424.316  12950.33   21314.86   38342.19   21116.152\n",
            " 21116.152  17960.371  13822.355  14526.625  15395.658  16308.86\n",
            " 20499.36   13815.833  13822.177  14233.985  15089.274  16531.11\n",
            " 10463.153  11563.517  14824.089 ]\n"
          ]
        }
      ]
    },
    {
      "cell_type": "code",
      "source": [
        "print(xgb_model_19.score(XX_19, yy_19))\n",
        "print(xgb_model_20.score(XX_20, yy_20))\n",
        "print(xgb_model_21.score(XX_21, yy_21))\n",
        "print(xgb_model_22.score(XX_22, yy_22))\n",
        "print(xgb_model_23.score(XX_23, yy_23))\n"
      ],
      "metadata": {
        "colab": {
          "base_uri": "https://localhost:8080/"
        },
        "id": "MSeqohBIs8LN",
        "outputId": "487b2379-d54b-417b-ebcd-75cf29803812"
      },
      "execution_count": null,
      "outputs": [
        {
          "output_type": "stream",
          "name": "stdout",
          "text": [
            "0.4999272822624069\n",
            "0.47191281810123253\n",
            "0.48628951334393755\n",
            "0.4608132864572919\n",
            "0.5274400673801727\n"
          ]
        }
      ]
    },
    {
      "cell_type": "code",
      "source": [
        "from sklearn.model_selection import GridSearchCV\n",
        "\n",
        "#XGB 파라미터 튜닝 그리드서치이\n",
        "param_grid = {\n",
        "    'learning_rate': [0.1, 0.01, 0.05],\n",
        "    'max_depth': [3, 5, 7],\n",
        "    'n_estimators': [50, 100, 200, 300, 400, 500]\n",
        "}\n",
        "\n",
        "grid_search = GridSearchCV(XGBRegressor(), param_grid, cv=3)\n",
        "grid_search.fit(X_23, y_23)\n",
        "\n",
        "best_params = grid_search.best_params_\n",
        "print(best_params)"
      ],
      "metadata": {
        "colab": {
          "base_uri": "https://localhost:8080/"
        },
        "id": "bgqM7WArS-cS",
        "outputId": "484a3c26-111d-48c7-e5d2-e5b1751c61c3"
      },
      "execution_count": null,
      "outputs": [
        {
          "output_type": "stream",
          "name": "stdout",
          "text": [
            "{'learning_rate': 0.1, 'max_depth': 3, 'n_estimators': 400}\n"
          ]
        }
      ]
    }
  ]
}