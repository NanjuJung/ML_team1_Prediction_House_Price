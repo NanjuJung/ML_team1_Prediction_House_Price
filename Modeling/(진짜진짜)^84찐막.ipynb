{
  "nbformat": 4,
  "nbformat_minor": 0,
  "metadata": {
    "colab": {
      "provenance": []
    },
    "kernelspec": {
      "name": "python3",
      "display_name": "Python 3"
    },
    "language_info": {
      "name": "python"
    }
  },
  "cells": [
    {
      "cell_type": "code",
      "source": [
        "# 필요한 라이브러리 불러오기\n",
        "from sklearn.model_selection import train_test_split, RandomizedSearchCV, GridSearchCV\n",
        "from sklearn.linear_model import Lasso\n",
        "from xgboost import XGBRegressor\n",
        "from sklearn.metrics import mean_squared_error, r2_score\n",
        "from sklearn.preprocessing import StandardScaler\n",
        "import pandas as pd\n",
        "\n",
        "# 데이터 로드 및 전처리\n",
        "data = pd.read_csv('/content/realmerge_level.csv',  encoding='cp949')\n",
        "\n",
        "# 독립변수와 종속변수 분리 X=input, y=target\n",
        "X = data[['전용면적(㎡)', '층_2019', '층_2020', '층_2021', '층_2022', '층_2023', '건축년도','X','Y']]\n",
        "y = data[['최종 집값(만원)_2019', '최종 집값(만원)_2020', '최종 집값(만원)_2021', '최종 집값(만원)_2022', '최종 집값(만원)_2023']]\n",
        "\n",
        "# 학습 데이터와 테스트 데이터로 나누기\n",
        "X_train, X_test, y_train, y_test = train_test_split(X, y, test_size=0.1, random_state=42)\n",
        "\n",
        "# RandomizedSearchCV를 사용한 XGBoost 하이퍼파라미터 튜닝\n",
        "param_dist = {\n",
        "    'learning_rate': [0.1, 0.01, 0.05],\n",
        "    'max_depth': [3, 5, 7],\n",
        "    'n_estimators': [50, 100, 200, 300]\n",
        "}\n",
        "\n",
        "random_search = RandomizedSearchCV(XGBRegressor(), param_distributions=param_dist, n_iter=10, cv=3, random_state=42)\n",
        "random_search.fit(X_train, y_train.values[:,0])  # 2019년도 데이터에 대한 훈련\n",
        "\n",
        "best_params_xgb_random = random_search.best_params_\n",
        "print(f'Best Hyperparameters - XGBoost (Random Search): {best_params_xgb_random}')\n",
        "\n",
        "# 조정된 XGBoost 모델 학습\n",
        "xgb_model_tuned_random = XGBRegressor(**best_params_xgb_random, random_state=42)\n",
        "xgb_model_tuned_random.fit(X_train, y_train.values[:,0])\n",
        "\n",
        "# 조정된 XGBoost 모델의 예측 및 평가\n",
        "xgb_predictions_tuned_random = xgb_model_tuned_random.predict(X_test)\n",
        "xgb_mse_tuned_random = mean_squared_error(y_test.values[:,0], xgb_predictions_tuned_random)\n",
        "print(f'Tuned XGBoost Mean Squared Error (Random Search): {xgb_mse_tuned_random}')\n",
        "\n",
        "# GridSearchCV를 사용한 XGBoost 하이퍼파라미터 튜닝\n",
        "param_grid = {\n",
        "    'learning_rate': [0.1, 0.01, 0.05],\n",
        "    'max_depth': [3, 5, 7],\n",
        "    'n_estimators': [50, 100, 200, 300]\n",
        "}\n",
        "\n",
        "grid_search = GridSearchCV(XGBRegressor(), param_grid, cv=3)\n",
        "grid_search.fit(X_train, y_train.values[:,0])\n",
        "\n",
        "best_params_xgb = grid_search.best_params_\n",
        "print(f'Best Hyperparameters - XGBoost (Grid Search): {best_params_xgb}')\n",
        "\n",
        "# 조정된 XGBoost 모델 학습\n",
        "xgb_model_tuned = XGBRegressor(**best_params_xgb)\n",
        "xgb_model_tuned.fit(X_train, y_train.values[:,0])\n",
        "\n",
        "# 조정된 XGBoost 모델의 예측 및 평가\n",
        "xgb_predictions_tuned = xgb_model_tuned.predict(X_test)\n",
        "xgb_mse_tuned = mean_squared_error(y_test.values[:,0], xgb_predictions_tuned)\n",
        "print(f'Tuned XGBoost Mean Squared Error (Grid Search): {xgb_mse_tuned}')\n",
        "\n",
        "# 라쏘 회귀 모델 학습\n",
        "lasso_model_23 = Lasso(alpha=10)  # alpha 값은 조절 가능\n",
        "lasso_model_23.fit(X_train, y_train.values[:,0])  # 2019년도 데이터에 대한 훈련\n",
        "\n",
        "# 표준화\n",
        "ss = StandardScaler()\n",
        "ss.fit(X_train)\n",
        "X_train_scaled = ss.transform(X_train)\n",
        "X_test_scaled = ss.transform(X_test)\n",
        "\n",
        "# 라쏘 회귀 모델 평가\n",
        "lasso_predictions = lasso_model_23.predict(X_test_scaled)\n",
        "lasso_mse = mean_squared_error(y_test.values[:,0], lasso_predictions)\n",
        "print(f\"Lasso Regression Mean Squared Error: {lasso_mse}\")\n",
        "\n",
        "# 테스트 데이터에 대한 예측값 생성\n",
        "y_pred = lasso_model_23.predict(X_test_scaled)\n",
        "\n",
        "# 결정 계수(R2) 계산\n",
        "r2_lasso = r2_score(y_test.values[:,0], y_pred)\n",
        "print(f'R-squared (R2) - Lasso: {r2_lasso}')\n",
        "\n",
        "# 결과 출력 및 시각화\n",
        "print('Best Hyperparameters - XGBoost (Grid Search):', best_params_xgb)\n",
        "print('Best Hyperparameters - XGBoost (Random Search):', best_params_xgb_random)\n",
        "print(f'Grid Search XGBoost Mean Squared Error: {xgb_mse_tuned}')\n",
        "print(f'Random Search XGBoost Mean Squared Error: {xgb_mse_tuned_random}')\n",
        "\n",
        "# 전체 데이터에 대한 예측값 생성\n",
        "xgb_predictions_grid = xgb_model_tuned.predict(X)  # 수정된 부분\n",
        "xgb_predictions_random = xgb_model_tuned_random.predict(X)  # 수정된 부분\n",
        "\n",
        "# 전체 데이터에 대한 실제 값\n",
        "y_actual = y.values[:,0]\n",
        "\n",
        "# Grid Search XGBoost 모델 평가\n",
        "r2_xgb_grid = r2_score(y_actual, xgb_predictions_grid)\n",
        "mse_xgb_grid = mean_squared_error(y_actual, xgb_predictions_grid)\n",
        "print(f'Grid Search XGBoost R-squared (R2): {r2_xgb_grid}')\n",
        "print(f'Grid Search XGBoost Mean Squared Error: {mse_xgb_grid}')\n",
        "\n",
        "# Random Search XGBoost 모델 평가\n",
        "r2_xgb_random = r2_score(y_actual, xgb_predictions_random)\n",
        "mse_xgb_random = mean_squared_error(y_actual, xgb_predictions_random)\n",
        "print(f'Random Search XGBoost R-squared (R2): {r2_xgb_random}')\n",
        "print(f'Random Search XGBoost Mean Squared Error: {mse_xgb_random}')\n",
        "\n"
      ],
      "metadata": {
        "id": "DohL989bDDnQ",
        "colab": {
          "base_uri": "https://localhost:8080/"
        },
        "outputId": "c4e14f7e-3e29-45a3-eb68-b9384e13a609"
      },
      "execution_count": null,
      "outputs": [
        {
          "output_type": "stream",
          "name": "stdout",
          "text": [
            "Best Hyperparameters - XGBoost (Random Search): {'n_estimators': 300, 'max_depth': 5, 'learning_rate': 0.05}\n",
            "Tuned XGBoost Mean Squared Error (Random Search): 43370293.38270316\n",
            "Best Hyperparameters - XGBoost (Grid Search): {'learning_rate': 0.1, 'max_depth': 3, 'n_estimators': 200}\n",
            "Tuned XGBoost Mean Squared Error (Grid Search): 35474497.11612108\n",
            "Lasso Regression Mean Squared Error: 1552941352461.3267\n",
            "R-squared (R2) - Lasso: -9378.010421216499\n",
            "Best Hyperparameters - XGBoost (Grid Search): {'learning_rate': 0.1, 'max_depth': 3, 'n_estimators': 200}\n",
            "Best Hyperparameters - XGBoost (Random Search): {'n_estimators': 300, 'max_depth': 5, 'learning_rate': 0.05}\n",
            "Grid Search XGBoost Mean Squared Error: 35474497.11612108\n",
            "Random Search XGBoost Mean Squared Error: 43370293.38270316\n",
            "Grid Search XGBoost R-squared (R2): 0.8766976799867677\n",
            "Grid Search XGBoost Mean Squared Error: 14204180.222256044\n",
            "Random Search XGBoost R-squared (R2): 0.921767530505486\n",
            "Random Search XGBoost Mean Squared Error: 9012223.742529532\n"
          ]
        },
        {
          "output_type": "stream",
          "name": "stderr",
          "text": [
            "/usr/local/lib/python3.10/dist-packages/sklearn/base.py:439: UserWarning: X does not have valid feature names, but Lasso was fitted with feature names\n",
            "  warnings.warn(\n",
            "/usr/local/lib/python3.10/dist-packages/sklearn/base.py:439: UserWarning: X does not have valid feature names, but Lasso was fitted with feature names\n",
            "  warnings.warn(\n"
          ]
        }
      ]
    },
    {
      "cell_type": "code",
      "source": [
        "# 사용자 입력 받기\n",
        "user_input = {\n",
        "    '전용면적(㎡)': float(input('전용면적(㎡)을 입력하세요: ')),\n",
        "    '층_2023': float(input('층_2023을 입력하세요: ')),\n",
        "    '건축년도': int(input('건축년도를 입력하세요: ')),\n",
        "    'X': float(input('X 값을 입력하세요: ')),\n",
        "    'Y': float(input('Y 값을 입력하세요: '))\n",
        "}\n",
        "\n",
        "# XGBoost 모델을 사용하여 주택 가격 예측을 위한 입력 데이터 정렬\n",
        "xgb_input = pd.DataFrame([user_input], columns=X.columns)\n",
        "xgb_predicted_price = xgb_model_tuned.predict(xgb_input)[0]\n",
        "\n",
        "# 예측된 주택 가격 출력\n",
        "print(f'XGBoost로 예측된 주택 가격 (만원): {xgb_predicted_price}')\n",
        "\n"
      ],
      "metadata": {
        "colab": {
          "base_uri": "https://localhost:8080/"
        },
        "id": "Vidh68dPI5cZ",
        "outputId": "a2fe153d-7d60-4690-d19e-dde8eceed856"
      },
      "execution_count": null,
      "outputs": [
        {
          "output_type": "stream",
          "name": "stdout",
          "text": [
            "전용면적(㎡)을 입력하세요: 48.42\n",
            "층_2023을 입력하세요: 2\n",
            "건축년도를 입력하세요: 2017\n",
            "X 값을 입력하세요: 126.824862\n",
            "Y 값을 입력하세요: 37.496253\n",
            "XGBoost로 예측된 주택 가격 (만원): 25952.236328125\n"
          ]
        }
      ]
    },
    {
      "cell_type": "code",
      "source": [],
      "metadata": {
        "id": "GHOmju1xDEce"
      },
      "execution_count": null,
      "outputs": []
    },
    {
      "cell_type": "code",
      "source": [],
      "metadata": {
        "id": "GHr6qGPcDIVR"
      },
      "execution_count": null,
      "outputs": []
    },
    {
      "cell_type": "code",
      "source": [],
      "metadata": {
        "id": "U24PwAhY7KsT"
      },
      "execution_count": null,
      "outputs": []
    },
    {
      "cell_type": "code",
      "source": [
        "\n"
      ],
      "metadata": {
        "id": "YYlmLzo57ncg"
      },
      "execution_count": null,
      "outputs": []
    },
    {
      "cell_type": "code",
      "source": [],
      "metadata": {
        "id": "f2GjLEQwDfpz"
      },
      "execution_count": null,
      "outputs": []
    }
  ]
}